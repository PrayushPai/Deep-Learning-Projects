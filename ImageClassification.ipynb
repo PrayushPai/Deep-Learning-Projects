{
  "nbformat": 4,
  "nbformat_minor": 0,
  "metadata": {
    "colab": {
      "name": "ImageClassification.ipynb",
      "provenance": [],
      "authorship_tag": "ABX9TyPFR4l0/IbKWJMAzE6oGO0R",
      "include_colab_link": true
    },
    "kernelspec": {
      "name": "python3",
      "display_name": "Python 3"
    },
    "language_info": {
      "name": "python"
    }
  },
  "cells": [
    {
      "cell_type": "markdown",
      "metadata": {
        "id": "view-in-github",
        "colab_type": "text"
      },
      "source": [
        "<a href=\"https://colab.research.google.com/github/PrayushPai/Deep-Learning-Projects/blob/main/ImageClassification.ipynb\" target=\"_parent\"><img src=\"https://colab.research.google.com/assets/colab-badge.svg\" alt=\"Open In Colab\"/></a>"
      ]
    },
    {
      "cell_type": "code",
      "metadata": {
        "colab": {
          "base_uri": "https://localhost:8080/"
        },
        "id": "eKD0xrh1uRvs",
        "outputId": "68ac6d16-50e3-49bc-a5ae-43f8598ff219"
      },
      "source": [
        "!pip install bing-image-downloader"
      ],
      "execution_count": null,
      "outputs": [
        {
          "output_type": "stream",
          "text": [
            "Requirement already satisfied: bing-image-downloader in /usr/local/lib/python3.7/dist-packages (1.0.4)\n"
          ],
          "name": "stdout"
        }
      ]
    },
    {
      "cell_type": "code",
      "metadata": {
        "id": "MkCWwa5mui-t"
      },
      "source": [
        "!mkdir image"
      ],
      "execution_count": null,
      "outputs": []
    },
    {
      "cell_type": "code",
      "metadata": {
        "id": "OjNbYLT-w-xW",
        "colab": {
          "base_uri": "https://localhost:8080/"
        },
        "outputId": "4be8a95a-f314-461c-94d1-3d61e5727bd2"
      },
      "source": [
        "from bing_image_downloader import downloader\n",
        "downloader.download(\"Chair\", limit=30, output_dir='image')"
      ],
      "execution_count": null,
      "outputs": [
        {
          "output_type": "stream",
          "text": [
            "\n",
            "\n",
            "[!!]Indexing page: 1\n",
            "\n",
            "[%] Indexed 12 Images on Page 1.\n",
            "\n",
            "===============================================\n",
            "\n",
            "[%] Downloading Image #1 from http://www.roomservicestore.com/PDGImages/brixton_wing_chair_white_685.jpg\n",
            "[%] File Downloaded !\n",
            "\n",
            "[%] Downloading Image #2 from http://www.digitaljournal.com/img/7/8/5/2/5/8/i/5/1/9/o/505254284_ea5f1549dd.jpg\n",
            "[%] File Downloaded !\n",
            "\n",
            "[%] Downloading Image #3 from http://newnation.sg/wp-content/uploads/electric-chair.jpg\n",
            "[%] File Downloaded !\n",
            "\n",
            "[%] Downloading Image #4 from http://www.nellavetrina.com/Visionnaire-Esmeralda-Upholstered-Leather-Chairs-P1820/2MFBesmeralda.chair-1.jpg\n",
            "[%] File Downloaded !\n",
            "\n",
            "[%] Downloading Image #5 from http://2.bp.blogspot.com/-PYZad1cKpV4/T_iqjc4-PUI/AAAAAAAAAJY/CuJXhwcCk74/s1600/Ambers-rocking-chair-768x1024.jpg\n",
            "[%] File Downloaded !\n",
            "\n",
            "[%] Downloading Image #6 from http://www.valleyleather.com/media/product/BASEBALL_GLOVE_CHAIR.jpg\n",
            "[%] File Downloaded !\n",
            "\n",
            "[%] Downloading Image #7 from http://www.wakefieldscearce.com/wp-content/uploads/2012/01/2002-MAH-WS782.JPG\n",
            "[%] File Downloaded !\n",
            "\n",
            "[%] Downloading Image #8 from http://images.hayneedle.com/mgen/master:ACB057.jpg\n",
            "[%] File Downloaded !\n",
            "\n",
            "[%] Downloading Image #9 from http://www.besthf.com/bcassets/prodimages2/large/2468.jpg\n",
            "[%] File Downloaded !\n",
            "\n",
            "[%] Downloading Image #10 from http://thumbs.dreamstime.com/z/woman-relaxing-chair-2424651.jpg\n",
            "[%] File Downloaded !\n",
            "\n",
            "[%] Downloading Image #11 from http://www.partyswizzle.com/assets/images/08Centerpieces/Lifeguard13White.jpg\n",
            "[%] File Downloaded !\n",
            "\n",
            "[%] Downloading Image #12 from http://politicalbooks.org/wp-content/uploads/2010/12/electric-chair-execution-dow.jpg\n",
            "[%] File Downloaded !\n",
            "\n",
            "\n",
            "\n",
            "[!!]Indexing page: 2\n",
            "\n",
            "[%] Indexed 12 Images on Page 2.\n",
            "\n",
            "===============================================\n",
            "\n",
            "[%] Downloading Image #13 from http://www.roomservicestore.com/PDGImages/brixton_wing_chair_white_685.jpg\n",
            "[%] File Downloaded !\n",
            "\n",
            "[%] Downloading Image #14 from http://www.digitaljournal.com/img/7/8/5/2/5/8/i/5/1/9/o/505254284_ea5f1549dd.jpg\n",
            "[%] File Downloaded !\n",
            "\n",
            "[%] Downloading Image #15 from http://newnation.sg/wp-content/uploads/electric-chair.jpg\n",
            "[%] File Downloaded !\n",
            "\n",
            "[%] Downloading Image #16 from http://www.nellavetrina.com/Visionnaire-Esmeralda-Upholstered-Leather-Chairs-P1820/2MFBesmeralda.chair-1.jpg\n",
            "[%] File Downloaded !\n",
            "\n",
            "[%] Downloading Image #17 from http://2.bp.blogspot.com/-PYZad1cKpV4/T_iqjc4-PUI/AAAAAAAAAJY/CuJXhwcCk74/s1600/Ambers-rocking-chair-768x1024.jpg\n",
            "[%] File Downloaded !\n",
            "\n",
            "[%] Downloading Image #18 from http://www.valleyleather.com/media/product/BASEBALL_GLOVE_CHAIR.jpg\n",
            "[%] File Downloaded !\n",
            "\n",
            "[%] Downloading Image #19 from http://www.wakefieldscearce.com/wp-content/uploads/2012/01/2002-MAH-WS782.JPG\n",
            "[%] File Downloaded !\n",
            "\n",
            "[%] Downloading Image #20 from http://images.hayneedle.com/mgen/master:ACB057.jpg\n",
            "[%] File Downloaded !\n",
            "\n",
            "[%] Downloading Image #21 from http://www.besthf.com/bcassets/prodimages2/large/2468.jpg\n",
            "[%] File Downloaded !\n",
            "\n",
            "[%] Downloading Image #22 from http://thumbs.dreamstime.com/z/woman-relaxing-chair-2424651.jpg\n",
            "[%] File Downloaded !\n",
            "\n",
            "[%] Downloading Image #23 from http://www.partyswizzle.com/assets/images/08Centerpieces/Lifeguard13White.jpg\n",
            "[%] File Downloaded !\n",
            "\n",
            "[%] Downloading Image #24 from http://politicalbooks.org/wp-content/uploads/2010/12/electric-chair-execution-dow.jpg\n",
            "[%] File Downloaded !\n",
            "\n",
            "\n",
            "\n",
            "[!!]Indexing page: 3\n",
            "\n",
            "[%] Indexed 11 Images on Page 3.\n",
            "\n",
            "===============================================\n",
            "\n",
            "[%] Downloading Image #25 from http://newnation.sg/wp-content/uploads/electric-chair.jpg\n",
            "[%] File Downloaded !\n",
            "\n",
            "[%] Downloading Image #26 from http://politicalbooks.org/wp-content/uploads/2010/12/electric-chair-execution-dow.jpg\n",
            "[%] File Downloaded !\n",
            "\n",
            "[%] Downloading Image #27 from http://www.valleyleather.com/media/product/BASEBALL_GLOVE_CHAIR.jpg\n",
            "[%] File Downloaded !\n",
            "\n",
            "[%] Downloading Image #28 from http://www.besthf.com/bcassets/prodimages2/large/2468.jpg\n",
            "[%] File Downloaded !\n",
            "\n",
            "[%] Downloading Image #29 from http://2.bp.blogspot.com/-PYZad1cKpV4/T_iqjc4-PUI/AAAAAAAAAJY/CuJXhwcCk74/s1600/Ambers-rocking-chair-768x1024.jpg\n",
            "[%] File Downloaded !\n",
            "\n",
            "[%] Downloading Image #30 from http://images.hayneedle.com/mgen/master:ACB057.jpg\n",
            "[%] File Downloaded !\n",
            "\n",
            "\n",
            "\n",
            "[%] Done. Downloaded 30 images.\n",
            "\n",
            "===============================================\n",
            "\n"
          ],
          "name": "stdout"
        }
      ]
    },
    {
      "cell_type": "code",
      "metadata": {
        "colab": {
          "base_uri": "https://localhost:8080/"
        },
        "id": "izR27NCuu5c3",
        "outputId": "218d6f06-8063-43c1-e8e4-44fc95b21eff"
      },
      "source": [
        "from bing_image_downloader import downloader\n",
        "downloader.download(\"Posters\", limit=30, output_dir='image')"
      ],
      "execution_count": null,
      "outputs": [
        {
          "output_type": "stream",
          "text": [
            "\n",
            "\n",
            "[!!]Indexing page: 1\n",
            "\n",
            "[%] Indexed 12 Images on Page 1.\n",
            "\n",
            "===============================================\n",
            "\n",
            "[%] Downloading Image #1 from http://4.bp.blogspot.com/_2OKRhARU3ng/TFha_oJfg3I/AAAAAAAAAHc/5GXT_2SNwYM/s1600/scan0030.jpg\n",
            "[%] File Downloaded !\n",
            "\n",
            "[%] Downloading Image #2 from http://4.bp.blogspot.com/-J-nSsX4-b_o/Ts-iOhSmRsI/AAAAAAAAABs/LJXD5LVaLhk/s1600/anti_smoking_posters-06.jpg\n",
            "[%] File Downloaded !\n",
            "\n",
            "[%] Downloading Image #3 from http://img3.wikia.nocookie.net/__cb20131002122858/disney/images/5/58/Frozen-movie-poster.jpg\n",
            "[%] File Downloaded !\n",
            "\n",
            "[%] Downloading Image #4 from http://1.bp.blogspot.com/-mGk71ANUVZs/T9F4E4VkX3I/AAAAAAAAP0E/2Ry_xIExzBU/s1600/vintage+posters+(6).jpg\n",
            "[%] File Downloaded !\n",
            "\n",
            "[%] Downloading Image #5 from http://www.funtoxin.com/cosmos/wp-content/uploads/2010/09/28-286495037.jpg\n",
            "[%] File Downloaded !\n",
            "\n",
            "[%] Downloading Image #6 from http://2.bp.blogspot.com/-mVvPzXnTZWk/TeAlmTjePzI/AAAAAAAAAHA/k8Dl_vYixHI/s1600/raven_1963_poster_02.jpg\n",
            "[%] File Downloaded !\n",
            "\n",
            "[%] Downloading Image #7 from http://smoran.ednet.ns.ca/WEBSITE/genre posters/Poetry.jpg\n",
            "[!] Issue getting: http://smoran.ednet.ns.ca/WEBSITE/genre posters/Poetry.jpg\n",
            "[!] Error:: URL can't contain control characters. '/WEBSITE/genre posters/Poetry.jpg' (found at least ' ')\n",
            "[%] Downloading Image #7 from http://upload.wikimedia.org/wikipedia/commons/1/13/Visit_India,_a_street_by_moonlight,_travel_poster,_ca._1920.jpg\n",
            "[%] File Downloaded !\n",
            "\n",
            "[%] Downloading Image #8 from http://www.okrestaurants.com/docs/PosterPreventSpanish.jpg\n",
            "[%] File Downloaded !\n",
            "\n",
            "[%] Downloading Image #9 from http://may09.hugginsandscott.com/pl/13067d_western_movie_posters.jpg\n",
            "[%] File Downloaded !\n",
            "\n",
            "[%] Downloading Image #10 from http://www.webdesignmash.com/trial/wp-content/uploads/2012/10/awesome-80s-movie-posters-81.jpg\n",
            "[%] File Downloaded !\n",
            "\n",
            "[%] Downloading Image #11 from http://2.bp.blogspot.com/-1d2kiBce1go/UQ-x7GVvurI/AAAAAAAATbo/ONRBNNDUgkM/s1600/Horror-Movie-Posters-27.jpg\n",
            "[%] File Downloaded !\n",
            "\n",
            "\n",
            "\n",
            "[!!]Indexing page: 2\n",
            "\n",
            "[%] Indexed 12 Images on Page 2.\n",
            "\n",
            "===============================================\n",
            "\n",
            "[%] Downloading Image #12 from http://cain.ulst.ac.uk/images/posters/republican/poster14.jpg\n",
            "[%] File Downloaded !\n",
            "\n",
            "[%] Downloading Image #13 from http://www.movieposter.com/posters/archive/main/27/b70-13555\n",
            "[!] Issue getting: http://www.movieposter.com/posters/archive/main/27/b70-13555\n",
            "[!] Error:: HTTP Error 404: Not Found\n",
            "[%] Downloading Image #13 from http://ww1.prweb.com/prfiles/2009/07/28/80638/SkolnickOriginalWoodstock.jpg\n",
            "[%] File Downloaded !\n",
            "\n",
            "[%] Downloading Image #14 from http://1.bp.blogspot.com/-0A-xcBQSDgs/T4xNwsHUsgI/AAAAAAABC-U/vuENG7DT82Q/s1600/Cool+Vintage+Movie+Posters+(13).jpg\n",
            "[%] File Downloaded !\n",
            "\n",
            "[%] Downloading Image #15 from http://simonz.co.hu/poster/ep123/prequel-poster1-movie.jpg\n",
            "[%] File Downloaded !\n",
            "\n",
            "[%] Downloading Image #16 from http://originalvintagemovieposters.com/wp-content/uploads/2010/08/Frenzy-1-Sheet.jpg\n",
            "[%] File Downloaded !\n",
            "\n",
            "[%] Downloading Image #17 from http://posterwire.com/wp-content/uploads/indiana_jones_and_the_temple_of_doom.jpg\n",
            "[%] File Downloaded !\n",
            "\n",
            "[%] Downloading Image #18 from http://3.bp.blogspot.com/_0ulaTRgPZFA/TNcF332qD8I/AAAAAAAAAI4/IdNZBNf7bGg/s1600/jaws-movie-poster-5000649.jpg\n",
            "[%] File Downloaded !\n",
            "\n",
            "[%] Downloading Image #19 from http://meetinthelobby.com/wp-content/uploads/2013/09/Breaking-Bad-Poster-Season-4-Large.jpg\n",
            "[%] File Downloaded !\n",
            "\n",
            "[%] Downloading Image #20 from http://www.movienewz.com/img/gallery/san-andreas/posters/san_andreas_movie_poster_1.jpg\n",
            "[%] File Downloaded !\n",
            "\n",
            "[%] Downloading Image #21 from http://aviatstudios.com/wp-content/uploads/2011/03/postImage_vintageAirlinePosters_panam12.jpg\n",
            "[%] File Downloaded !\n",
            "\n",
            "[%] Downloading Image #22 from http://www.freemovieposters.net/posters/harry_potter_and_the_order_of_the_phoenix_2007_93_poster.jpg\n",
            "[%] File Downloaded !\n",
            "\n",
            "\n",
            "\n",
            "[!!]Indexing page: 3\n",
            "\n",
            "[%] Indexed 11 Images on Page 3.\n",
            "\n",
            "===============================================\n",
            "\n",
            "[%] Downloading Image #23 from http://1.bp.blogspot.com/-mGk71ANUVZs/T9F4E4VkX3I/AAAAAAAAP0E/2Ry_xIExzBU/s1600/vintage+posters+(6).jpg\n",
            "[%] File Downloaded !\n",
            "\n",
            "[%] Downloading Image #24 from http://www.funtoxin.com/cosmos/wp-content/uploads/2010/09/28-286495037.jpg\n",
            "[%] File Downloaded !\n",
            "\n",
            "[%] Downloading Image #25 from http://img3.wikia.nocookie.net/__cb20131002122858/disney/images/5/58/Frozen-movie-poster.jpg\n",
            "[%] File Downloaded !\n",
            "\n",
            "[%] Downloading Image #26 from http://smoran.ednet.ns.ca/WEBSITE/genre posters/Poetry.jpg\n",
            "[!] Issue getting: http://smoran.ednet.ns.ca/WEBSITE/genre posters/Poetry.jpg\n",
            "[!] Error:: URL can't contain control characters. '/WEBSITE/genre posters/Poetry.jpg' (found at least ' ')\n",
            "[%] Downloading Image #26 from http://may09.hugginsandscott.com/pl/13067d_western_movie_posters.jpg\n",
            "[%] File Downloaded !\n",
            "\n",
            "[%] Downloading Image #27 from http://www.okrestaurants.com/docs/PosterPreventSpanish.jpg\n",
            "[%] File Downloaded !\n",
            "\n",
            "[%] Downloading Image #28 from http://4.bp.blogspot.com/-J-nSsX4-b_o/Ts-iOhSmRsI/AAAAAAAAABs/LJXD5LVaLhk/s1600/anti_smoking_posters-06.jpg\n",
            "[%] File Downloaded !\n",
            "\n",
            "[%] Downloading Image #29 from http://www.webdesignmash.com/trial/wp-content/uploads/2012/10/awesome-80s-movie-posters-81.jpg\n",
            "[%] File Downloaded !\n",
            "\n",
            "[%] Downloading Image #30 from http://2.bp.blogspot.com/-1d2kiBce1go/UQ-x7GVvurI/AAAAAAAATbo/ONRBNNDUgkM/s1600/Horror-Movie-Posters-27.jpg\n",
            "[%] File Downloaded !\n",
            "\n",
            "\n",
            "\n",
            "[%] Done. Downloaded 30 images.\n",
            "\n",
            "===============================================\n",
            "\n"
          ],
          "name": "stdout"
        }
      ]
    },
    {
      "cell_type": "code",
      "metadata": {
        "id": "2eUhVW9hxFTa"
      },
      "source": [
        "import pandas as pd\n",
        "import matplotlib.pyplot as plt\n",
        "from skimage.io import imread\n",
        "from skimage.transform import resize\n",
        "import numpy as np\n",
        "import os\n",
        "import cv2"
      ],
      "execution_count": null,
      "outputs": []
    },
    {
      "cell_type": "code",
      "metadata": {
        "id": "xyjQp492yHnR",
        "colab": {
          "base_uri": "https://localhost:8080/"
        },
        "outputId": "358b2a1d-dd33-4288-f8ac-8568ac903a3e"
      },
      "source": [
        "datadir= \"/content/image\"\n",
        "categories = ['Chair','Posters']\n",
        "target=[]\n",
        "flat_data=[]\n",
        "for i in categories:\n",
        "  path = os.path.join(datadir,i)\n",
        "  print(path)\n",
        "  for img in os.listdir(path):\n",
        "    img_arr = imread(os.path.join(path,img))\n",
        "    gray_img = cv2.cvtColor(img_arr, cv2.COLOR_BGR2GRAY)\n",
        "    img_resize = resize(gray_img,(150,150,1)) \n",
        "    flat_data.append(np.ndarray.flatten(img_resize))\n",
        "    target.append(i)\n",
        "\n",
        "x = np.array(flat_data)\n",
        "y = np.array(target)"
      ],
      "execution_count": null,
      "outputs": [
        {
          "output_type": "stream",
          "text": [
            "/content/image/Chair\n",
            "/content/image/Posters\n"
          ],
          "name": "stdout"
        }
      ]
    },
    {
      "cell_type": "code",
      "metadata": {
        "id": "qG8y1BiYvbFm"
      },
      "source": [
        "df = pd.DataFrame(flat_data)\n",
        "df['Target']=target"
      ],
      "execution_count": null,
      "outputs": []
    },
    {
      "cell_type": "code",
      "metadata": {
        "colab": {
          "base_uri": "https://localhost:8080/"
        },
        "id": "azOphhkmvrSf",
        "outputId": "bb640e6b-c7ae-4d73-f29a-769f0edc3c43"
      },
      "source": [
        "df['Target'].value_counts()"
      ],
      "execution_count": null,
      "outputs": [
        {
          "output_type": "execute_result",
          "data": {
            "text/plain": [
              "Posters    30\n",
              "Chair      30\n",
              "Name: Target, dtype: int64"
            ]
          },
          "metadata": {
            "tags": []
          },
          "execution_count": 26
        }
      ]
    },
    {
      "cell_type": "code",
      "metadata": {
        "id": "h59FNynX2L8O"
      },
      "source": [
        "from sklearn.model_selection import train_test_split\n",
        "x_train,x_test,y_train,y_test = train_test_split(x,y,random_state=0,stratify=y)\n",
        "from sklearn.svm import SVC\n",
        "model = SVC()\n",
        "model.fit(x_train,y_train)\n",
        "y_pred = model.predict(x_test)"
      ],
      "execution_count": null,
      "outputs": []
    },
    {
      "cell_type": "code",
      "metadata": {
        "colab": {
          "base_uri": "https://localhost:8080/"
        },
        "id": "WVPaMCIZwBE2",
        "outputId": "77bd0625-01e5-4a43-dc94-21309136ee4c"
      },
      "source": [
        "from sklearn.metrics import accuracy_score,confusion_matrix,classification_report\n",
        "accuracy_score(y_pred,y_test)"
      ],
      "execution_count": null,
      "outputs": [
        {
          "output_type": "execute_result",
          "data": {
            "text/plain": [
              "0.6"
            ]
          },
          "metadata": {
            "tags": []
          },
          "execution_count": 28
        }
      ]
    },
    {
      "cell_type": "code",
      "metadata": {
        "colab": {
          "base_uri": "https://localhost:8080/"
        },
        "id": "NQ5jsAfQ7BdU",
        "outputId": "16a7ee45-d3bf-48dc-dc28-5b189fa58220"
      },
      "source": [
        "from sklearn.neighbors import KNeighborsClassifier\n",
        "knn = KNeighborsClassifier(n_neighbors=7)\n",
        "knn.fit(x_train, y_train)"
      ],
      "execution_count": null,
      "outputs": [
        {
          "output_type": "execute_result",
          "data": {
            "text/plain": [
              "KNeighborsClassifier(algorithm='auto', leaf_size=30, metric='minkowski',\n",
              "                     metric_params=None, n_jobs=None, n_neighbors=7, p=2,\n",
              "                     weights='uniform')"
            ]
          },
          "metadata": {
            "tags": []
          },
          "execution_count": 29
        }
      ]
    },
    {
      "cell_type": "code",
      "metadata": {
        "id": "DhT1lwFK9H-7"
      },
      "source": [
        "y_pred = knn.predict(x_test)"
      ],
      "execution_count": null,
      "outputs": []
    },
    {
      "cell_type": "code",
      "metadata": {
        "colab": {
          "base_uri": "https://localhost:8080/"
        },
        "id": "QjUipPLL9UJp",
        "outputId": "6871c0d3-cd16-4994-e3cf-85312748269e"
      },
      "source": [
        "#Finding accuracy using K-nearest Neighbour\n",
        "from sklearn.metrics import accuracy_score,confusion_matrix,classification_report\n",
        "accuracy_score(y_pred,y_test)"
      ],
      "execution_count": null,
      "outputs": [
        {
          "output_type": "execute_result",
          "data": {
            "text/plain": [
              "0.6666666666666666"
            ]
          },
          "metadata": {
            "tags": []
          },
          "execution_count": 32
        }
      ]
    },
    {
      "cell_type": "code",
      "metadata": {
        "colab": {
          "base_uri": "https://localhost:8080/"
        },
        "id": "bxUvKiE_wEjr",
        "outputId": "96eec626-83ec-4fe5-d61d-de0f10cee16b"
      },
      "source": [
        "confusion_matrix(y_pred,y_test)"
      ],
      "execution_count": null,
      "outputs": [
        {
          "output_type": "execute_result",
          "data": {
            "text/plain": [
              "array([[6, 3],\n",
              "       [2, 4]])"
            ]
          },
          "metadata": {
            "tags": []
          },
          "execution_count": 33
        }
      ]
    },
    {
      "cell_type": "code",
      "metadata": {
        "colab": {
          "base_uri": "https://localhost:8080/"
        },
        "id": "nX9k0LE4wIpU",
        "outputId": "f064301b-4a68-4ce8-cb36-b0806f96d67b"
      },
      "source": [
        "from sklearn.model_selection import GridSearchCV\n",
        "model = SVC()\n",
        "param = {\n",
        "    'kernel':['linear','rbf','poly'],\n",
        "    'C':[0.1,1,10,100]\n",
        "}\n",
        "grid = GridSearchCV(model,param,cv=5)\n",
        "grid.fit(x_train,y_train)\n",
        "grid.best_params_"
      ],
      "execution_count": null,
      "outputs": [
        {
          "output_type": "execute_result",
          "data": {
            "text/plain": [
              "{'C': 1, 'kernel': 'poly'}"
            ]
          },
          "metadata": {
            "tags": []
          },
          "execution_count": 34
        }
      ]
    },
    {
      "cell_type": "code",
      "metadata": {
        "id": "w0mIiwIFwTjA"
      },
      "source": [
        "model = SVC(C=0.1,kernel= 'linear')"
      ],
      "execution_count": null,
      "outputs": []
    },
    {
      "cell_type": "code",
      "metadata": {
        "colab": {
          "base_uri": "https://localhost:8080/"
        },
        "id": "UqhbGas9wW-p",
        "outputId": "f19247d9-16ab-4c3d-dfb5-73672a120801"
      },
      "source": [
        "model.fit(x_train,y_train)\n",
        "y_pred = model.predict(x_test)\n",
        "from sklearn.metrics import accuracy_score,confusion_matrix,classification_report\n",
        "accuracy_score(y_pred,y_test)"
      ],
      "execution_count": null,
      "outputs": [
        {
          "output_type": "execute_result",
          "data": {
            "text/plain": [
              "0.6666666666666666"
            ]
          },
          "metadata": {
            "tags": []
          },
          "execution_count": 37
        }
      ]
    },
    {
      "cell_type": "code",
      "metadata": {
        "colab": {
          "base_uri": "https://localhost:8080/"
        },
        "id": "NN-_4NQOwYuf",
        "outputId": "987930c9-ca77-4a47-f4f4-c9851ab37526"
      },
      "source": [
        "confusion_matrix(y_pred,y_test)"
      ],
      "execution_count": null,
      "outputs": [
        {
          "output_type": "execute_result",
          "data": {
            "text/plain": [
              "array([[6, 3],\n",
              "       [2, 4]])"
            ]
          },
          "metadata": {
            "tags": []
          },
          "execution_count": 39
        }
      ]
    }
  ]
}