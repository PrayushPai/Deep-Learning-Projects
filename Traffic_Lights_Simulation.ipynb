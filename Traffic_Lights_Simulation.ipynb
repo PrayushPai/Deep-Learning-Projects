{
  "nbformat": 4,
  "nbformat_minor": 0,
  "metadata": {
    "colab": {
      "name": "Traffic-Lights-Simulation.ipynb",
      "provenance": [],
      "include_colab_link": true
    },
    "kernelspec": {
      "name": "python3",
      "display_name": "Python 3"
    },
    "language_info": {
      "name": "python"
    }
  },
  "cells": [
    {
      "cell_type": "markdown",
      "metadata": {
        "id": "view-in-github",
        "colab_type": "text"
      },
      "source": [
        "<a href=\"https://colab.research.google.com/github/PrayushPai/PrayushPai/blob/main/Traffic_Lights_Simulation.ipynb\" target=\"_parent\"><img src=\"https://colab.research.google.com/assets/colab-badge.svg\" alt=\"Open In Colab\"/></a>"
      ]
    },
    {
      "cell_type": "code",
      "metadata": {
        "id": "7j_qVX3KLm81"
      },
      "source": [
        "#YOLO\n",
        "!pip install imageai-2.0.2-py3-none-any.whl\n",
        "!pip install tensorflow==1.13.1\n",
        "!pip install keras==2.3.0"
      ],
      "execution_count": null,
      "outputs": []
    },
    {
      "cell_type": "code",
      "metadata": {
        "id": "KPvzXYgdLtPG"
      },
      "source": [
        "from imageai.Detection import ObjectDetection\n",
        "detector = ObjectDetection()"
      ],
      "execution_count": null,
      "outputs": []
    },
    {
      "cell_type": "code",
      "metadata": {
        "id": "TBbLvuZsLvSg"
      },
      "source": [
        "detector.setModelTypeAsRetinaNet()\n",
        "detector.setModelTypeAsYOLOv3()\n",
        "detector.setModelTypeAsTinyYOLOv3()\n",
        "detector.setModelPath(\"/content/drive/MyDrive/Projects- Machine learning/YOLO/yolo-tiny.h5\")\n",
        "detector.loadModel()"
      ],
      "execution_count": null,
      "outputs": []
    },
    {
      "cell_type": "code",
      "metadata": {
        "colab": {
          "base_uri": "https://localhost:8080/"
        },
        "id": "4-egYx_H4JXY",
        "outputId": "7839ef59-5fe5-4134-e8e7-f2218c6e3342"
      },
      "source": [
        "from google.colab import drive\n",
        "drive.mount('/content/drive')"
      ],
      "execution_count": null,
      "outputs": [
        {
          "output_type": "stream",
          "text": [
            "Mounted at /content/drive\n"
          ],
          "name": "stdout"
        }
      ]
    },
    {
      "cell_type": "code",
      "metadata": {
        "id": "rWes3jtoSUXG"
      },
      "source": [
        "#calculating time\n",
        "def gst(no_signals,number): #car bus motorcycle truck\n",
        "    time= [2,1,2.5,2.5]\n",
        "    x=0\n",
        "    for i in range(0,4):\n",
        "        x+=number[i]*time[i]\n",
        "    gst= int (x/(no_signals +1))\n",
        "    print(gst)\n",
        "    return(gst)"
      ],
      "execution_count": null,
      "outputs": []
    },
    {
      "cell_type": "code",
      "metadata": {
        "id": "IvJq3CEmSWRX"
      },
      "source": [
        "#countdown function\n",
        "import time\n",
        "import sys\n",
        "signal=[[0,0,0],[0,0,0],[0,0,0],[0,0,0]]\n",
        "k=0\n",
        "l=[]\n",
        "no_signals = 4\n",
        "with open('/content/image_files.txt') as f:\n",
        "  l = f.read().splitlines() \n",
        "\n",
        "def countdown(t, signal,SN,k,state):\n",
        "    j=5\n",
        "    m=k\n",
        "    s=state\n",
        "    if(s==0):\n",
        "      sys.exit('end')\n",
        "    else:   \n",
        "        while True:\n",
        "            sn=SN\n",
        "            i=t\n",
        "\n",
        "            if(i>5):\n",
        "              mins, secs = divmod(t, 60)\n",
        "              timer = '{:02d}:{:02d}'.format(mins, secs)\n",
        "              print(timer, end=\"\\r\")\n",
        "              time.sleep(1)\n",
        "              signal[sn][2]=t\n",
        "              print(signal)\n",
        "              t -= 1\n",
        "              i=t\n",
        "              \n",
        "            \n",
        "            elif(i<=5 and i>0):\n",
        "              \n",
        "              mins, secs = divmod(t, 60)\n",
        "              timer = '{:02d}:{:02d}'.format(mins, secs)\n",
        "              print(timer, end=\"\\r\")\n",
        "              time.sleep(1)\n",
        "              signal[sn][2]=t\n",
        "              signal[(sn+1)%(no_signals)][0]=i+5\n",
        "              print(signal)\n",
        "              t -= 1\n",
        "              i=t\n",
        "        \n",
        "\n",
        "\n",
        "            \n",
        "            elif(i<=0 and j>=0):\n",
        "              \n",
        "              signal[sn][0]=0\n",
        "              signal[sn][2]=0\n",
        "              mins, secs = divmod(j, 60)\n",
        "              timer = '{:02d}:{:02d}'.format(mins, secs)\n",
        "              print(timer, end=\"\\r\")\n",
        "              time.sleep(1)\n",
        "              signal[sn][1]=j\n",
        "              signal[(sn+1)%(no_signals)][0]=j\n",
        "              j-=1\n",
        "              print(signal)\n",
        "              \n",
        "            else:\n",
        "          \n",
        "\n",
        "\n",
        "                detections = detector.detectObjectsFromImage(input_image=l[m], output_image_path=\"imagenew.jpg\", minimum_percentage_probability=30)\n",
        "                objects=['car','bus','motorcycle','truck','person']\n",
        "                number=[0,0,0,0,0]\n",
        "                for j in range(0,5):\n",
        "                  for eachObject in detections:\n",
        "                    if(eachObject['name']==objects[j]):\n",
        "                      number[j]=number[j]+1\n",
        "                number[2]= number[2]+number[4]\n",
        "                print(m)\n",
        "                m=m+1\n",
        "                if(m==len(l)):\n",
        "                  print('end')\n",
        "                  s = 0\n",
        "\n",
        "                signal=[[0, 0, 0],  [0, 0, 0],  [0, 0, 0],  [0, 0, 0]]\n",
        "                sn=((sn+1)%(no_signals)) # equivalent to sn=sn+1 initially, but once sn reaches the end, it loops back to first.\n",
        "                gt=gst(no_signals,number)\n",
        "                countdown(gt,signal,sn,m,s)\n"
      ],
      "execution_count": null,
      "outputs": []
    },
    {
      "cell_type": "code",
      "metadata": {
        "id": "bZ7lVJxGL1tI",
        "colab": {
          "base_uri": "https://localhost:8080/",
          "height": 1000
        },
        "outputId": "7e8b030d-f812-49ad-808e-8dd56c861729"
      },
      "source": [
        "countdown(20,signal,0,0,1)"
      ],
      "execution_count": null,
      "outputs": [
        {
          "output_type": "stream",
          "text": [
            "[[0, 0, 20], [0, 0, 0], [0, 0, 0], [0, 0, 0]]\n",
            "[[0, 0, 19], [0, 0, 0], [0, 0, 0], [0, 0, 0]]\n",
            "[[0, 0, 18], [0, 0, 0], [0, 0, 0], [0, 0, 0]]\n",
            "[[0, 0, 17], [0, 0, 0], [0, 0, 0], [0, 0, 0]]\n",
            "[[0, 0, 16], [0, 0, 0], [0, 0, 0], [0, 0, 0]]\n",
            "[[0, 0, 15], [0, 0, 0], [0, 0, 0], [0, 0, 0]]\n",
            "[[0, 0, 14], [0, 0, 0], [0, 0, 0], [0, 0, 0]]\n",
            "[[0, 0, 13], [0, 0, 0], [0, 0, 0], [0, 0, 0]]\n",
            "[[0, 0, 12], [0, 0, 0], [0, 0, 0], [0, 0, 0]]\n",
            "[[0, 0, 11], [0, 0, 0], [0, 0, 0], [0, 0, 0]]\n",
            "[[0, 0, 10], [0, 0, 0], [0, 0, 0], [0, 0, 0]]\n",
            "[[0, 0, 9], [0, 0, 0], [0, 0, 0], [0, 0, 0]]\n",
            "[[0, 0, 8], [0, 0, 0], [0, 0, 0], [0, 0, 0]]\n",
            "[[0, 0, 7], [0, 0, 0], [0, 0, 0], [0, 0, 0]]\n",
            "[[0, 0, 6], [0, 0, 0], [0, 0, 0], [0, 0, 0]]\n",
            "[[0, 0, 5], [10, 0, 0], [0, 0, 0], [0, 0, 0]]\n",
            "[[0, 0, 4], [9, 0, 0], [0, 0, 0], [0, 0, 0]]\n",
            "[[0, 0, 3], [8, 0, 0], [0, 0, 0], [0, 0, 0]]\n",
            "[[0, 0, 2], [7, 0, 0], [0, 0, 0], [0, 0, 0]]\n",
            "[[0, 0, 1], [6, 0, 0], [0, 0, 0], [0, 0, 0]]\n",
            "[[0, 5, 0], [5, 0, 0], [0, 0, 0], [0, 0, 0]]\n",
            "[[0, 4, 0], [4, 0, 0], [0, 0, 0], [0, 0, 0]]\n",
            "[[0, 3, 0], [3, 0, 0], [0, 0, 0], [0, 0, 0]]\n",
            "[[0, 2, 0], [2, 0, 0], [0, 0, 0], [0, 0, 0]]\n",
            "[[0, 1, 0], [1, 0, 0], [0, 0, 0], [0, 0, 0]]\n",
            "[[0, 0, 0], [0, 0, 0], [0, 0, 0], [0, 0, 0]]\n",
            "0\n",
            "4\n",
            "[[0, 0, 0], [0, 0, 4], [9, 0, 0], [0, 0, 0]]\n",
            "[[0, 0, 0], [0, 0, 3], [8, 0, 0], [0, 0, 0]]\n",
            "[[0, 0, 0], [0, 0, 2], [7, 0, 0], [0, 0, 0]]\n",
            "[[0, 0, 0], [0, 0, 1], [6, 0, 0], [0, 0, 0]]\n",
            "[[0, 0, 0], [0, 5, 0], [5, 0, 0], [0, 0, 0]]\n",
            "[[0, 0, 0], [0, 4, 0], [4, 0, 0], [0, 0, 0]]\n",
            "[[0, 0, 0], [0, 3, 0], [3, 0, 0], [0, 0, 0]]\n",
            "[[0, 0, 0], [0, 2, 0], [2, 0, 0], [0, 0, 0]]\n",
            "[[0, 0, 0], [0, 1, 0], [1, 0, 0], [0, 0, 0]]\n",
            "[[0, 0, 0], [0, 0, 0], [0, 0, 0], [0, 0, 0]]\n",
            "1\n",
            "11\n",
            "[[0, 0, 0], [0, 0, 0], [0, 0, 11], [0, 0, 0]]\n",
            "[[0, 0, 0], [0, 0, 0], [0, 0, 10], [0, 0, 0]]\n",
            "[[0, 0, 0], [0, 0, 0], [0, 0, 9], [0, 0, 0]]\n",
            "[[0, 0, 0], [0, 0, 0], [0, 0, 8], [0, 0, 0]]\n",
            "[[0, 0, 0], [0, 0, 0], [0, 0, 7], [0, 0, 0]]\n",
            "[[0, 0, 0], [0, 0, 0], [0, 0, 6], [0, 0, 0]]\n",
            "[[0, 0, 0], [0, 0, 0], [0, 0, 5], [10, 0, 0]]\n",
            "[[0, 0, 0], [0, 0, 0], [0, 0, 4], [9, 0, 0]]\n",
            "[[0, 0, 0], [0, 0, 0], [0, 0, 3], [8, 0, 0]]\n",
            "[[0, 0, 0], [0, 0, 0], [0, 0, 2], [7, 0, 0]]\n",
            "[[0, 0, 0], [0, 0, 0], [0, 0, 1], [6, 0, 0]]\n",
            "[[0, 0, 0], [0, 0, 0], [0, 5, 0], [5, 0, 0]]\n",
            "[[0, 0, 0], [0, 0, 0], [0, 4, 0], [4, 0, 0]]\n",
            "[[0, 0, 0], [0, 0, 0], [0, 3, 0], [3, 0, 0]]\n",
            "[[0, 0, 0], [0, 0, 0], [0, 2, 0], [2, 0, 0]]\n",
            "[[0, 0, 0], [0, 0, 0], [0, 1, 0], [1, 0, 0]]\n",
            "[[0, 0, 0], [0, 0, 0], [0, 0, 0], [0, 0, 0]]\n",
            "2\n",
            "2\n",
            "[[7, 0, 0], [0, 0, 0], [0, 0, 0], [0, 0, 2]]\n",
            "[[6, 0, 0], [0, 0, 0], [0, 0, 0], [0, 0, 1]]\n",
            "[[5, 0, 0], [0, 0, 0], [0, 0, 0], [0, 5, 0]]\n",
            "[[4, 0, 0], [0, 0, 0], [0, 0, 0], [0, 4, 0]]\n",
            "[[3, 0, 0], [0, 0, 0], [0, 0, 0], [0, 3, 0]]\n",
            "[[2, 0, 0], [0, 0, 0], [0, 0, 0], [0, 2, 0]]\n",
            "[[1, 0, 0], [0, 0, 0], [0, 0, 0], [0, 1, 0]]\n",
            "[[0, 0, 0], [0, 0, 0], [0, 0, 0], [0, 0, 0]]\n",
            "3\n",
            "2\n",
            "[[0, 0, 2], [7, 0, 0], [0, 0, 0], [0, 0, 0]]\n",
            "[[0, 0, 1], [6, 0, 0], [0, 0, 0], [0, 0, 0]]\n",
            "[[0, 5, 0], [5, 0, 0], [0, 0, 0], [0, 0, 0]]\n",
            "[[0, 4, 0], [4, 0, 0], [0, 0, 0], [0, 0, 0]]\n",
            "[[0, 3, 0], [3, 0, 0], [0, 0, 0], [0, 0, 0]]\n",
            "[[0, 2, 0], [2, 0, 0], [0, 0, 0], [0, 0, 0]]\n",
            "[[0, 1, 0], [1, 0, 0], [0, 0, 0], [0, 0, 0]]\n",
            "[[0, 0, 0], [0, 0, 0], [0, 0, 0], [0, 0, 0]]\n",
            "4\n",
            "0\n",
            "[[0, 0, 0], [0, 5, 0], [5, 0, 0], [0, 0, 0]]\n",
            "[[0, 0, 0], [0, 4, 0], [4, 0, 0], [0, 0, 0]]\n",
            "[[0, 0, 0], [0, 3, 0], [3, 0, 0], [0, 0, 0]]\n",
            "[[0, 0, 0], [0, 2, 0], [2, 0, 0], [0, 0, 0]]\n",
            "[[0, 0, 0], [0, 1, 0], [1, 0, 0], [0, 0, 0]]\n",
            "[[0, 0, 0], [0, 0, 0], [0, 0, 0], [0, 0, 0]]\n",
            "5\n",
            "end\n",
            "7\n"
          ],
          "name": "stdout"
        },
        {
          "output_type": "error",
          "ename": "SystemExit",
          "evalue": "ignored",
          "traceback": [
            "An exception has occurred, use %tb to see the full traceback.\n",
            "\u001b[0;31mSystemExit\u001b[0m\u001b[0;31m:\u001b[0m end\n"
          ]
        },
        {
          "output_type": "stream",
          "text": [
            "/usr/local/lib/python3.7/dist-packages/IPython/core/interactiveshell.py:2890: UserWarning: To exit: use 'exit', 'quit', or Ctrl-D.\n",
            "  warn(\"To exit: use 'exit', 'quit', or Ctrl-D.\", stacklevel=1)\n"
          ],
          "name": "stderr"
        }
      ]
    },
    {
      "cell_type": "code",
      "metadata": {
        "id": "Sntm354OPKWy"
      },
      "source": [
        ""
      ],
      "execution_count": null,
      "outputs": []
    }
  ]
}